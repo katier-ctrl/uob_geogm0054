{
 "cells": [
  {
   "cell_type": "markdown",
   "id": "0b7b9a71",
   "metadata": {
    "slideshow": {
     "slide_type": "slide"
    }
   },
   "source": [
    "# Recap of Week 4: Numerical Python"
   ]
  },
  {
   "cell_type": "markdown",
   "id": "535d165d-7e65-4886-b4f4-b7c077d9c931",
   "metadata": {},
   "source": [
    "In week 4, we have covered:\n",
    "\n",
    "- NumPy arrays and how to select and manipulate them\n",
    "- Creating NumPy arrays with built-in functions\n",
    "- Performing mathematical and logical operations on NumPy arrays\n",
    "- Dealing with multiple dimensions\n",
    "- Combining arrays when they are not exactly the same shape\n",
    "- Plotting data from NumPy arrays in one and two dimensions"
   ]
  },
  {
   "cell_type": "markdown",
   "id": "fe4a11d6-fd3b-48fd-96c1-399c21f2f58c",
   "metadata": {
    "slideshow": {
     "slide_type": "skip"
    }
   },
   "source": [
    "We already started using multi-dimensional NumPy arrays for some basic analysis and plotting of gridded weather data. This week, we will take a look at some high-level geographical Python packages that all make use of NumPy under the hood, but will allow use to work with geospatial data sets on a whole new level."
   ]
  },
  {
   "cell_type": "markdown",
   "id": "76e240bc-160d-489c-8a12-bd680d09f8f0",
   "metadata": {
    "slideshow": {
     "slide_type": "slide"
    }
   },
   "source": [
    "# Week 5: Geospatial data (vector) and GitHub"
   ]
  },
  {
   "cell_type": "markdown",
   "id": "a5203ca7-14fa-4e5d-b023-54d379b666f7",
   "metadata": {
    "slideshow": {
     "slide_type": "slide"
    }
   },
   "source": [
    "## Table of Contents\n",
    "\n",
    "1. #### [Geospatial packages](./chapters/01-packages.ipynb)\n",
    "2. #### [Vector data in geopandas](./chapters/02-vectors.ipynb)\n",
    "3. #### [Coordinate reference systems](./chapters/03-crs.ipynb)\n",
    "4. #### [Spatial relationships and joins](./chapters/04-relation_join.ipynb)\n"
   ]
  },
  {
   "cell_type": "markdown",
   "id": "706c2e6b-53ca-4d31-8cac-733389b903b7",
   "metadata": {
    "slideshow": {
     "slide_type": "skip"
    }
   },
   "source": [
    "## [[Next](./chapters/01-packages.ipynb)]"
   ]
  }
 ],
 "metadata": {
  "celltoolbar": "Slideshow",
  "kernelspec": {
   "display_name": "Python 3 (ipykernel)",
   "language": "python",
   "name": "python3"
  },
  "language_info": {
   "codemirror_mode": {
    "name": "ipython",
    "version": 3
   },
   "file_extension": ".py",
   "mimetype": "text/x-python",
   "name": "python",
   "nbconvert_exporter": "python",
   "pygments_lexer": "ipython3",
   "version": "3.13.5"
  },
  "toc-autonumbering": false,
  "toc-showcode": false,
  "toc-showmarkdowntxt": false
 },
 "nbformat": 4,
 "nbformat_minor": 5
}
